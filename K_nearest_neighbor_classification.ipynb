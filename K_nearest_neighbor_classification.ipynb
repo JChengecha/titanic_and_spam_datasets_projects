{
  "nbformat": 4,
  "nbformat_minor": 0,
  "metadata": {
    "colab": {
      "name": "K-nearest_neighbor_classification.ipynb",
      "provenance": [],
      "collapsed_sections": [
        "XecOwPNorl2W",
        "J4wfHZwQrs-t",
        "7KMRBJ7zr9HD",
        "iUNbvIvnT7ep",
        "8v8mZ1TP56lz",
        "FGQcaHLY6Pzm",
        "eFjs3yhK6dJ4",
        "jPDb7Dsmwrn3",
        "3sUH_B-txNUa",
        "RqAZU_8YxXZJ",
        "eQ5bqeh6VdgA"
      ],
      "toc_visible": true,
      "authorship_tag": "ABX9TyMQAG5uBEsgMTIrqY5FV9bX",
      "include_colab_link": true
    },
    "kernelspec": {
      "name": "python3",
      "display_name": "Python 3"
    },
    "language_info": {
      "name": "python"
    }
  },
  "cells": [
    {
      "cell_type": "markdown",
      "metadata": {
        "id": "view-in-github",
        "colab_type": "text"
      },
      "source": [
        "<a href=\"https://colab.research.google.com/github/JChengecha/titanic_and_spam_datasets_projects/blob/main/K_nearest_neighbor_classification.ipynb\" target=\"_parent\"><img src=\"https://colab.research.google.com/assets/colab-badge.svg\" alt=\"Open In Colab\"/></a>"
      ]
    },
    {
      "cell_type": "markdown",
      "metadata": {
        "id": "XecOwPNorl2W"
      },
      "source": [
        " # The Research Question\n",
        "\n",
        "\n",
        "\n"
      ]
    },
    {
      "cell_type": "markdown",
      "metadata": {
        "id": "2uqJB1srt4_d"
      },
      "source": [
        "The Titanic was a British passenger liner that sank in the North Atlantic Ocean after it collided with an iceberg during its maiden voyage from Southampton to New York City.\n",
        "\n",
        "Here, we are asked to predict whether a passenger on the titanic would have survived or not."
      ]
    },
    {
      "cell_type": "markdown",
      "metadata": {
        "id": "J4wfHZwQrs-t"
      },
      "source": [
        "### The Metric for Success"
      ]
    },
    {
      "cell_type": "markdown",
      "metadata": {
        "id": "WO1gGSNZuiMK"
      },
      "source": [
        "To come with an optimized KNN model that would predict if a passenger would have survived or not"
      ]
    },
    {
      "cell_type": "markdown",
      "metadata": {
        "id": "7KMRBJ7zr9HD"
      },
      "source": [
        "###  The Experimental Design"
      ]
    },
    {
      "cell_type": "markdown",
      "metadata": {
        "id": "RPXw7Rcvu1jC"
      },
      "source": [
        "* Checking for data quality\n",
        "* data cleaning\n",
        "* Categorical Encoding\n",
        "* modelling and making predictions: This step will mostly entail splitting our training set further and training our model on it and evaluating the performance. Later, checking how the model will perform, the test dataset will then be incorporated to the model "
      ]
    },
    {
      "cell_type": "markdown",
      "metadata": {
        "id": "XvnbCrph0h_A"
      },
      "source": [
        "Dataset Source: \n",
        "* Train Dataset Source: [Link](https://archive.org/download/train5_202002/train%20%285%29.csv),\n",
        "* Test Dataset Source: [Link](https://archive.org/download/test1_202002/test%20%281%29.csv)"
      ]
    },
    {
      "cell_type": "markdown",
      "metadata": {
        "id": "iUNbvIvnT7ep"
      },
      "source": [
        "# Reading & Checking the Dataset"
      ]
    },
    {
      "cell_type": "code",
      "metadata": {
        "id": "XtMgg1Bgzo2H"
      },
      "source": [
        "# importing some libraries\n",
        "import pandas as pd\n",
        "import numpy as np"
      ],
      "execution_count": 25,
      "outputs": []
    },
    {
      "cell_type": "code",
      "metadata": {
        "id": "gcm795HX48XT"
      },
      "source": [
        "# reading the respective datasets\n",
        "df1=pd.read_csv('https://archive.org/download/train5_202002/train%20%285%29.csv')\n",
        "df2=pd.read_csv('https://archive.org/download/test1_202002/test%20%281%29.csv')"
      ],
      "execution_count": 26,
      "outputs": []
    },
    {
      "cell_type": "markdown",
      "metadata": {
        "id": "8v8mZ1TP56lz"
      },
      "source": [
        "#### Checking the first dataset"
      ]
    },
    {
      "cell_type": "code",
      "metadata": {
        "colab": {
          "base_uri": "https://localhost:8080/",
          "height": 0
        },
        "id": "UZDz0mLR5Uxc",
        "outputId": "8e278f43-076a-4f59-cfd4-e407443f3dd6"
      },
      "source": [
        "# checking the first rows of the data\n",
        "df1.head()"
      ],
      "execution_count": 27,
      "outputs": [
        {
          "output_type": "execute_result",
          "data": {
            "text/html": [
              "<div>\n",
              "<style scoped>\n",
              "    .dataframe tbody tr th:only-of-type {\n",
              "        vertical-align: middle;\n",
              "    }\n",
              "\n",
              "    .dataframe tbody tr th {\n",
              "        vertical-align: top;\n",
              "    }\n",
              "\n",
              "    .dataframe thead th {\n",
              "        text-align: right;\n",
              "    }\n",
              "</style>\n",
              "<table border=\"1\" class=\"dataframe\">\n",
              "  <thead>\n",
              "    <tr style=\"text-align: right;\">\n",
              "      <th></th>\n",
              "      <th>PassengerId</th>\n",
              "      <th>Survived</th>\n",
              "      <th>Pclass</th>\n",
              "      <th>Name</th>\n",
              "      <th>Sex</th>\n",
              "      <th>Age</th>\n",
              "      <th>SibSp</th>\n",
              "      <th>Parch</th>\n",
              "      <th>Ticket</th>\n",
              "      <th>Fare</th>\n",
              "      <th>Cabin</th>\n",
              "      <th>Embarked</th>\n",
              "    </tr>\n",
              "  </thead>\n",
              "  <tbody>\n",
              "    <tr>\n",
              "      <th>0</th>\n",
              "      <td>1</td>\n",
              "      <td>0</td>\n",
              "      <td>3</td>\n",
              "      <td>Braund, Mr. Owen Harris</td>\n",
              "      <td>male</td>\n",
              "      <td>22.0</td>\n",
              "      <td>1</td>\n",
              "      <td>0</td>\n",
              "      <td>A/5 21171</td>\n",
              "      <td>7.2500</td>\n",
              "      <td>NaN</td>\n",
              "      <td>S</td>\n",
              "    </tr>\n",
              "    <tr>\n",
              "      <th>1</th>\n",
              "      <td>2</td>\n",
              "      <td>1</td>\n",
              "      <td>1</td>\n",
              "      <td>Cumings, Mrs. John Bradley (Florence Briggs Th...</td>\n",
              "      <td>female</td>\n",
              "      <td>38.0</td>\n",
              "      <td>1</td>\n",
              "      <td>0</td>\n",
              "      <td>PC 17599</td>\n",
              "      <td>71.2833</td>\n",
              "      <td>C85</td>\n",
              "      <td>C</td>\n",
              "    </tr>\n",
              "    <tr>\n",
              "      <th>2</th>\n",
              "      <td>3</td>\n",
              "      <td>1</td>\n",
              "      <td>3</td>\n",
              "      <td>Heikkinen, Miss. Laina</td>\n",
              "      <td>female</td>\n",
              "      <td>26.0</td>\n",
              "      <td>0</td>\n",
              "      <td>0</td>\n",
              "      <td>STON/O2. 3101282</td>\n",
              "      <td>7.9250</td>\n",
              "      <td>NaN</td>\n",
              "      <td>S</td>\n",
              "    </tr>\n",
              "    <tr>\n",
              "      <th>3</th>\n",
              "      <td>4</td>\n",
              "      <td>1</td>\n",
              "      <td>1</td>\n",
              "      <td>Futrelle, Mrs. Jacques Heath (Lily May Peel)</td>\n",
              "      <td>female</td>\n",
              "      <td>35.0</td>\n",
              "      <td>1</td>\n",
              "      <td>0</td>\n",
              "      <td>113803</td>\n",
              "      <td>53.1000</td>\n",
              "      <td>C123</td>\n",
              "      <td>S</td>\n",
              "    </tr>\n",
              "    <tr>\n",
              "      <th>4</th>\n",
              "      <td>5</td>\n",
              "      <td>0</td>\n",
              "      <td>3</td>\n",
              "      <td>Allen, Mr. William Henry</td>\n",
              "      <td>male</td>\n",
              "      <td>35.0</td>\n",
              "      <td>0</td>\n",
              "      <td>0</td>\n",
              "      <td>373450</td>\n",
              "      <td>8.0500</td>\n",
              "      <td>NaN</td>\n",
              "      <td>S</td>\n",
              "    </tr>\n",
              "  </tbody>\n",
              "</table>\n",
              "</div>"
            ],
            "text/plain": [
              "   PassengerId  Survived  Pclass  ...     Fare Cabin  Embarked\n",
              "0            1         0       3  ...   7.2500   NaN         S\n",
              "1            2         1       1  ...  71.2833   C85         C\n",
              "2            3         1       3  ...   7.9250   NaN         S\n",
              "3            4         1       1  ...  53.1000  C123         S\n",
              "4            5         0       3  ...   8.0500   NaN         S\n",
              "\n",
              "[5 rows x 12 columns]"
            ]
          },
          "metadata": {
            "tags": []
          },
          "execution_count": 27
        }
      ]
    },
    {
      "cell_type": "code",
      "metadata": {
        "colab": {
          "base_uri": "https://localhost:8080/",
          "height": 0
        },
        "id": "le8juavW5dw4",
        "outputId": "79006b81-cabf-45af-8abe-822647de57e7"
      },
      "source": [
        "# checking the last rows of the data\n",
        "\n",
        "df1.tail()"
      ],
      "execution_count": 28,
      "outputs": [
        {
          "output_type": "execute_result",
          "data": {
            "text/html": [
              "<div>\n",
              "<style scoped>\n",
              "    .dataframe tbody tr th:only-of-type {\n",
              "        vertical-align: middle;\n",
              "    }\n",
              "\n",
              "    .dataframe tbody tr th {\n",
              "        vertical-align: top;\n",
              "    }\n",
              "\n",
              "    .dataframe thead th {\n",
              "        text-align: right;\n",
              "    }\n",
              "</style>\n",
              "<table border=\"1\" class=\"dataframe\">\n",
              "  <thead>\n",
              "    <tr style=\"text-align: right;\">\n",
              "      <th></th>\n",
              "      <th>PassengerId</th>\n",
              "      <th>Survived</th>\n",
              "      <th>Pclass</th>\n",
              "      <th>Name</th>\n",
              "      <th>Sex</th>\n",
              "      <th>Age</th>\n",
              "      <th>SibSp</th>\n",
              "      <th>Parch</th>\n",
              "      <th>Ticket</th>\n",
              "      <th>Fare</th>\n",
              "      <th>Cabin</th>\n",
              "      <th>Embarked</th>\n",
              "    </tr>\n",
              "  </thead>\n",
              "  <tbody>\n",
              "    <tr>\n",
              "      <th>886</th>\n",
              "      <td>887</td>\n",
              "      <td>0</td>\n",
              "      <td>2</td>\n",
              "      <td>Montvila, Rev. Juozas</td>\n",
              "      <td>male</td>\n",
              "      <td>27.0</td>\n",
              "      <td>0</td>\n",
              "      <td>0</td>\n",
              "      <td>211536</td>\n",
              "      <td>13.00</td>\n",
              "      <td>NaN</td>\n",
              "      <td>S</td>\n",
              "    </tr>\n",
              "    <tr>\n",
              "      <th>887</th>\n",
              "      <td>888</td>\n",
              "      <td>1</td>\n",
              "      <td>1</td>\n",
              "      <td>Graham, Miss. Margaret Edith</td>\n",
              "      <td>female</td>\n",
              "      <td>19.0</td>\n",
              "      <td>0</td>\n",
              "      <td>0</td>\n",
              "      <td>112053</td>\n",
              "      <td>30.00</td>\n",
              "      <td>B42</td>\n",
              "      <td>S</td>\n",
              "    </tr>\n",
              "    <tr>\n",
              "      <th>888</th>\n",
              "      <td>889</td>\n",
              "      <td>0</td>\n",
              "      <td>3</td>\n",
              "      <td>Johnston, Miss. Catherine Helen \"Carrie\"</td>\n",
              "      <td>female</td>\n",
              "      <td>NaN</td>\n",
              "      <td>1</td>\n",
              "      <td>2</td>\n",
              "      <td>W./C. 6607</td>\n",
              "      <td>23.45</td>\n",
              "      <td>NaN</td>\n",
              "      <td>S</td>\n",
              "    </tr>\n",
              "    <tr>\n",
              "      <th>889</th>\n",
              "      <td>890</td>\n",
              "      <td>1</td>\n",
              "      <td>1</td>\n",
              "      <td>Behr, Mr. Karl Howell</td>\n",
              "      <td>male</td>\n",
              "      <td>26.0</td>\n",
              "      <td>0</td>\n",
              "      <td>0</td>\n",
              "      <td>111369</td>\n",
              "      <td>30.00</td>\n",
              "      <td>C148</td>\n",
              "      <td>C</td>\n",
              "    </tr>\n",
              "    <tr>\n",
              "      <th>890</th>\n",
              "      <td>891</td>\n",
              "      <td>0</td>\n",
              "      <td>3</td>\n",
              "      <td>Dooley, Mr. Patrick</td>\n",
              "      <td>male</td>\n",
              "      <td>32.0</td>\n",
              "      <td>0</td>\n",
              "      <td>0</td>\n",
              "      <td>370376</td>\n",
              "      <td>7.75</td>\n",
              "      <td>NaN</td>\n",
              "      <td>Q</td>\n",
              "    </tr>\n",
              "  </tbody>\n",
              "</table>\n",
              "</div>"
            ],
            "text/plain": [
              "     PassengerId  Survived  Pclass  ...   Fare Cabin  Embarked\n",
              "886          887         0       2  ...  13.00   NaN         S\n",
              "887          888         1       1  ...  30.00   B42         S\n",
              "888          889         0       3  ...  23.45   NaN         S\n",
              "889          890         1       1  ...  30.00  C148         C\n",
              "890          891         0       3  ...   7.75   NaN         Q\n",
              "\n",
              "[5 rows x 12 columns]"
            ]
          },
          "metadata": {
            "tags": []
          },
          "execution_count": 28
        }
      ]
    },
    {
      "cell_type": "code",
      "metadata": {
        "colab": {
          "base_uri": "https://localhost:8080/"
        },
        "id": "FCtSouA26DHY",
        "outputId": "aac19935-b3b2-4836-b1a6-b992baa73441"
      },
      "source": [
        "# checking the information of the dataset\n",
        "df1.info()"
      ],
      "execution_count": 29,
      "outputs": [
        {
          "output_type": "stream",
          "text": [
            "<class 'pandas.core.frame.DataFrame'>\n",
            "RangeIndex: 891 entries, 0 to 890\n",
            "Data columns (total 12 columns):\n",
            " #   Column       Non-Null Count  Dtype  \n",
            "---  ------       --------------  -----  \n",
            " 0   PassengerId  891 non-null    int64  \n",
            " 1   Survived     891 non-null    int64  \n",
            " 2   Pclass       891 non-null    int64  \n",
            " 3   Name         891 non-null    object \n",
            " 4   Sex          891 non-null    object \n",
            " 5   Age          714 non-null    float64\n",
            " 6   SibSp        891 non-null    int64  \n",
            " 7   Parch        891 non-null    int64  \n",
            " 8   Ticket       891 non-null    object \n",
            " 9   Fare         891 non-null    float64\n",
            " 10  Cabin        204 non-null    object \n",
            " 11  Embarked     889 non-null    object \n",
            "dtypes: float64(2), int64(5), object(5)\n",
            "memory usage: 83.7+ KB\n"
          ],
          "name": "stdout"
        }
      ]
    },
    {
      "cell_type": "markdown",
      "metadata": {
        "id": "FGQcaHLY6Pzm"
      },
      "source": [
        "#### checking the second dataset"
      ]
    },
    {
      "cell_type": "code",
      "metadata": {
        "colab": {
          "base_uri": "https://localhost:8080/",
          "height": 0
        },
        "id": "Pwskq8EK5hU2",
        "outputId": "82ba1858-e602-4ad5-cbf4-7b69f304557c"
      },
      "source": [
        "# checking the first rows of the data\n",
        "df2.head()"
      ],
      "execution_count": 30,
      "outputs": [
        {
          "output_type": "execute_result",
          "data": {
            "text/html": [
              "<div>\n",
              "<style scoped>\n",
              "    .dataframe tbody tr th:only-of-type {\n",
              "        vertical-align: middle;\n",
              "    }\n",
              "\n",
              "    .dataframe tbody tr th {\n",
              "        vertical-align: top;\n",
              "    }\n",
              "\n",
              "    .dataframe thead th {\n",
              "        text-align: right;\n",
              "    }\n",
              "</style>\n",
              "<table border=\"1\" class=\"dataframe\">\n",
              "  <thead>\n",
              "    <tr style=\"text-align: right;\">\n",
              "      <th></th>\n",
              "      <th>PassengerId</th>\n",
              "      <th>Pclass</th>\n",
              "      <th>Name</th>\n",
              "      <th>Sex</th>\n",
              "      <th>Age</th>\n",
              "      <th>SibSp</th>\n",
              "      <th>Parch</th>\n",
              "      <th>Ticket</th>\n",
              "      <th>Fare</th>\n",
              "      <th>Cabin</th>\n",
              "      <th>Embarked</th>\n",
              "    </tr>\n",
              "  </thead>\n",
              "  <tbody>\n",
              "    <tr>\n",
              "      <th>0</th>\n",
              "      <td>892</td>\n",
              "      <td>3</td>\n",
              "      <td>Kelly, Mr. James</td>\n",
              "      <td>male</td>\n",
              "      <td>34.5</td>\n",
              "      <td>0</td>\n",
              "      <td>0</td>\n",
              "      <td>330911</td>\n",
              "      <td>7.8292</td>\n",
              "      <td>NaN</td>\n",
              "      <td>Q</td>\n",
              "    </tr>\n",
              "    <tr>\n",
              "      <th>1</th>\n",
              "      <td>893</td>\n",
              "      <td>3</td>\n",
              "      <td>Wilkes, Mrs. James (Ellen Needs)</td>\n",
              "      <td>female</td>\n",
              "      <td>47.0</td>\n",
              "      <td>1</td>\n",
              "      <td>0</td>\n",
              "      <td>363272</td>\n",
              "      <td>7.0000</td>\n",
              "      <td>NaN</td>\n",
              "      <td>S</td>\n",
              "    </tr>\n",
              "    <tr>\n",
              "      <th>2</th>\n",
              "      <td>894</td>\n",
              "      <td>2</td>\n",
              "      <td>Myles, Mr. Thomas Francis</td>\n",
              "      <td>male</td>\n",
              "      <td>62.0</td>\n",
              "      <td>0</td>\n",
              "      <td>0</td>\n",
              "      <td>240276</td>\n",
              "      <td>9.6875</td>\n",
              "      <td>NaN</td>\n",
              "      <td>Q</td>\n",
              "    </tr>\n",
              "    <tr>\n",
              "      <th>3</th>\n",
              "      <td>895</td>\n",
              "      <td>3</td>\n",
              "      <td>Wirz, Mr. Albert</td>\n",
              "      <td>male</td>\n",
              "      <td>27.0</td>\n",
              "      <td>0</td>\n",
              "      <td>0</td>\n",
              "      <td>315154</td>\n",
              "      <td>8.6625</td>\n",
              "      <td>NaN</td>\n",
              "      <td>S</td>\n",
              "    </tr>\n",
              "    <tr>\n",
              "      <th>4</th>\n",
              "      <td>896</td>\n",
              "      <td>3</td>\n",
              "      <td>Hirvonen, Mrs. Alexander (Helga E Lindqvist)</td>\n",
              "      <td>female</td>\n",
              "      <td>22.0</td>\n",
              "      <td>1</td>\n",
              "      <td>1</td>\n",
              "      <td>3101298</td>\n",
              "      <td>12.2875</td>\n",
              "      <td>NaN</td>\n",
              "      <td>S</td>\n",
              "    </tr>\n",
              "  </tbody>\n",
              "</table>\n",
              "</div>"
            ],
            "text/plain": [
              "   PassengerId  Pclass  ... Cabin Embarked\n",
              "0          892       3  ...   NaN        Q\n",
              "1          893       3  ...   NaN        S\n",
              "2          894       2  ...   NaN        Q\n",
              "3          895       3  ...   NaN        S\n",
              "4          896       3  ...   NaN        S\n",
              "\n",
              "[5 rows x 11 columns]"
            ]
          },
          "metadata": {
            "tags": []
          },
          "execution_count": 30
        }
      ]
    },
    {
      "cell_type": "code",
      "metadata": {
        "colab": {
          "base_uri": "https://localhost:8080/",
          "height": 0
        },
        "id": "b-OkV6ID5k1T",
        "outputId": "9d0ad1bc-2d0d-4078-e119-071cf8bc7d04"
      },
      "source": [
        "# checking the last rows of the data\n",
        "\n",
        "df2.tail()"
      ],
      "execution_count": 31,
      "outputs": [
        {
          "output_type": "execute_result",
          "data": {
            "text/html": [
              "<div>\n",
              "<style scoped>\n",
              "    .dataframe tbody tr th:only-of-type {\n",
              "        vertical-align: middle;\n",
              "    }\n",
              "\n",
              "    .dataframe tbody tr th {\n",
              "        vertical-align: top;\n",
              "    }\n",
              "\n",
              "    .dataframe thead th {\n",
              "        text-align: right;\n",
              "    }\n",
              "</style>\n",
              "<table border=\"1\" class=\"dataframe\">\n",
              "  <thead>\n",
              "    <tr style=\"text-align: right;\">\n",
              "      <th></th>\n",
              "      <th>PassengerId</th>\n",
              "      <th>Pclass</th>\n",
              "      <th>Name</th>\n",
              "      <th>Sex</th>\n",
              "      <th>Age</th>\n",
              "      <th>SibSp</th>\n",
              "      <th>Parch</th>\n",
              "      <th>Ticket</th>\n",
              "      <th>Fare</th>\n",
              "      <th>Cabin</th>\n",
              "      <th>Embarked</th>\n",
              "    </tr>\n",
              "  </thead>\n",
              "  <tbody>\n",
              "    <tr>\n",
              "      <th>413</th>\n",
              "      <td>1305</td>\n",
              "      <td>3</td>\n",
              "      <td>Spector, Mr. Woolf</td>\n",
              "      <td>male</td>\n",
              "      <td>NaN</td>\n",
              "      <td>0</td>\n",
              "      <td>0</td>\n",
              "      <td>A.5. 3236</td>\n",
              "      <td>8.0500</td>\n",
              "      <td>NaN</td>\n",
              "      <td>S</td>\n",
              "    </tr>\n",
              "    <tr>\n",
              "      <th>414</th>\n",
              "      <td>1306</td>\n",
              "      <td>1</td>\n",
              "      <td>Oliva y Ocana, Dona. Fermina</td>\n",
              "      <td>female</td>\n",
              "      <td>39.0</td>\n",
              "      <td>0</td>\n",
              "      <td>0</td>\n",
              "      <td>PC 17758</td>\n",
              "      <td>108.9000</td>\n",
              "      <td>C105</td>\n",
              "      <td>C</td>\n",
              "    </tr>\n",
              "    <tr>\n",
              "      <th>415</th>\n",
              "      <td>1307</td>\n",
              "      <td>3</td>\n",
              "      <td>Saether, Mr. Simon Sivertsen</td>\n",
              "      <td>male</td>\n",
              "      <td>38.5</td>\n",
              "      <td>0</td>\n",
              "      <td>0</td>\n",
              "      <td>SOTON/O.Q. 3101262</td>\n",
              "      <td>7.2500</td>\n",
              "      <td>NaN</td>\n",
              "      <td>S</td>\n",
              "    </tr>\n",
              "    <tr>\n",
              "      <th>416</th>\n",
              "      <td>1308</td>\n",
              "      <td>3</td>\n",
              "      <td>Ware, Mr. Frederick</td>\n",
              "      <td>male</td>\n",
              "      <td>NaN</td>\n",
              "      <td>0</td>\n",
              "      <td>0</td>\n",
              "      <td>359309</td>\n",
              "      <td>8.0500</td>\n",
              "      <td>NaN</td>\n",
              "      <td>S</td>\n",
              "    </tr>\n",
              "    <tr>\n",
              "      <th>417</th>\n",
              "      <td>1309</td>\n",
              "      <td>3</td>\n",
              "      <td>Peter, Master. Michael J</td>\n",
              "      <td>male</td>\n",
              "      <td>NaN</td>\n",
              "      <td>1</td>\n",
              "      <td>1</td>\n",
              "      <td>2668</td>\n",
              "      <td>22.3583</td>\n",
              "      <td>NaN</td>\n",
              "      <td>C</td>\n",
              "    </tr>\n",
              "  </tbody>\n",
              "</table>\n",
              "</div>"
            ],
            "text/plain": [
              "     PassengerId  Pclass                          Name  ...      Fare  Cabin  Embarked\n",
              "413         1305       3            Spector, Mr. Woolf  ...    8.0500    NaN         S\n",
              "414         1306       1  Oliva y Ocana, Dona. Fermina  ...  108.9000   C105         C\n",
              "415         1307       3  Saether, Mr. Simon Sivertsen  ...    7.2500    NaN         S\n",
              "416         1308       3           Ware, Mr. Frederick  ...    8.0500    NaN         S\n",
              "417         1309       3      Peter, Master. Michael J  ...   22.3583    NaN         C\n",
              "\n",
              "[5 rows x 11 columns]"
            ]
          },
          "metadata": {
            "tags": []
          },
          "execution_count": 31
        }
      ]
    },
    {
      "cell_type": "code",
      "metadata": {
        "colab": {
          "base_uri": "https://localhost:8080/"
        },
        "id": "iuDZcsB15mka",
        "outputId": "9b5505cf-62a1-4250-bd88-81572750cdd6"
      },
      "source": [
        "# checking the information of the dataset\n",
        "\n",
        "df2.info()"
      ],
      "execution_count": 32,
      "outputs": [
        {
          "output_type": "stream",
          "text": [
            "<class 'pandas.core.frame.DataFrame'>\n",
            "RangeIndex: 418 entries, 0 to 417\n",
            "Data columns (total 11 columns):\n",
            " #   Column       Non-Null Count  Dtype  \n",
            "---  ------       --------------  -----  \n",
            " 0   PassengerId  418 non-null    int64  \n",
            " 1   Pclass       418 non-null    int64  \n",
            " 2   Name         418 non-null    object \n",
            " 3   Sex          418 non-null    object \n",
            " 4   Age          332 non-null    float64\n",
            " 5   SibSp        418 non-null    int64  \n",
            " 6   Parch        418 non-null    int64  \n",
            " 7   Ticket       418 non-null    object \n",
            " 8   Fare         417 non-null    float64\n",
            " 9   Cabin        91 non-null     object \n",
            " 10  Embarked     418 non-null    object \n",
            "dtypes: float64(2), int64(4), object(5)\n",
            "memory usage: 36.0+ KB\n"
          ],
          "name": "stdout"
        }
      ]
    },
    {
      "cell_type": "markdown",
      "metadata": {
        "id": "eFjs3yhK6dJ4"
      },
      "source": [
        "# Data cleaning"
      ]
    },
    {
      "cell_type": "code",
      "metadata": {
        "id": "GmFuKo8Lv4fW"
      },
      "source": [
        "# changing all column name letters to lower case for easy coding \n",
        "df1.columns=df1.columns.str.lower()\n",
        "df2.columns=df2.columns.str.lower()"
      ],
      "execution_count": 33,
      "outputs": []
    },
    {
      "cell_type": "code",
      "metadata": {
        "id": "LcQVaK0apGsk"
      },
      "source": [
        "# dropping the unnecessary columns\n",
        "df1.drop(['name','ticket'],axis=1,inplace=True)\n",
        "\n",
        "df2.drop(['name','ticket'],axis=1,inplace=True)"
      ],
      "execution_count": 34,
      "outputs": []
    },
    {
      "cell_type": "markdown",
      "metadata": {
        "id": "jPDb7Dsmwrn3"
      },
      "source": [
        "#### checking for null values"
      ]
    },
    {
      "cell_type": "code",
      "metadata": {
        "id": "98jlD3pY6M7Q",
        "colab": {
          "base_uri": "https://localhost:8080/"
        },
        "outputId": "a7257cf0-9571-4514-8506-f6828ee603b6"
      },
      "source": [
        "df1.isnull().sum()"
      ],
      "execution_count": 35,
      "outputs": [
        {
          "output_type": "execute_result",
          "data": {
            "text/plain": [
              "passengerid      0\n",
              "survived         0\n",
              "pclass           0\n",
              "sex              0\n",
              "age            177\n",
              "sibsp            0\n",
              "parch            0\n",
              "fare             0\n",
              "cabin          687\n",
              "embarked         2\n",
              "dtype: int64"
            ]
          },
          "metadata": {
            "tags": []
          },
          "execution_count": 35
        }
      ]
    },
    {
      "cell_type": "code",
      "metadata": {
        "id": "IR3ch3Qk6bPL",
        "colab": {
          "base_uri": "https://localhost:8080/"
        },
        "outputId": "2de5746d-301f-4505-a3df-03ed262a7c03"
      },
      "source": [
        "df2.isnull().sum()"
      ],
      "execution_count": 36,
      "outputs": [
        {
          "output_type": "execute_result",
          "data": {
            "text/plain": [
              "passengerid      0\n",
              "pclass           0\n",
              "sex              0\n",
              "age             86\n",
              "sibsp            0\n",
              "parch            0\n",
              "fare             1\n",
              "cabin          327\n",
              "embarked         0\n",
              "dtype: int64"
            ]
          },
          "metadata": {
            "tags": []
          },
          "execution_count": 36
        }
      ]
    },
    {
      "cell_type": "code",
      "metadata": {
        "colab": {
          "base_uri": "https://localhost:8080/"
        },
        "id": "iJYyK2CedjGA",
        "outputId": "65e7e431-cda7-4831-884c-51d82b7fd11c"
      },
      "source": [
        "# checking for the most embarked port in the first data\n",
        "df1['embarked'].mode()"
      ],
      "execution_count": 37,
      "outputs": [
        {
          "output_type": "execute_result",
          "data": {
            "text/plain": [
              "0    S\n",
              "dtype: object"
            ]
          },
          "metadata": {
            "tags": []
          },
          "execution_count": 37
        }
      ]
    },
    {
      "cell_type": "code",
      "metadata": {
        "id": "DG6U2pQDdX4v"
      },
      "source": [
        "# filling the null values for the embarked  feature \n",
        "df1['embarked'].fillna('S',inplace=True)\n",
        "\n",
        "# filling in the null values for the 'fare' feature using the its mean\n",
        "df2['fare'].fillna(df2['fare'].mean(),inplace=True)"
      ],
      "execution_count": 38,
      "outputs": []
    },
    {
      "cell_type": "code",
      "metadata": {
        "id": "c3-2x_qatrpW",
        "colab": {
          "base_uri": "https://localhost:8080/"
        },
        "outputId": "be4fdb6e-0685-4a47-c874-dc76473049cd"
      },
      "source": [
        "# filling the null values for age with its mean in both datasets\n",
        "df1['age'].fillna(df1['age'].mean(),inplace=True)\n",
        "df2['age'].fillna(df2['age'].mean(),inplace=True)\n",
        "\n",
        "# ensuring there are no null values\n",
        "print(df1.isnull().sum(),'\\n')\n",
        "print(df2.isnull().sum())"
      ],
      "execution_count": 39,
      "outputs": [
        {
          "output_type": "stream",
          "text": [
            "passengerid      0\n",
            "survived         0\n",
            "pclass           0\n",
            "sex              0\n",
            "age              0\n",
            "sibsp            0\n",
            "parch            0\n",
            "fare             0\n",
            "cabin          687\n",
            "embarked         0\n",
            "dtype: int64 \n",
            "\n",
            "passengerid      0\n",
            "pclass           0\n",
            "sex              0\n",
            "age              0\n",
            "sibsp            0\n",
            "parch            0\n",
            "fare             0\n",
            "cabin          327\n",
            "embarked         0\n",
            "dtype: int64\n"
          ],
          "name": "stdout"
        }
      ]
    },
    {
      "cell_type": "markdown",
      "metadata": {
        "id": "Wxzl4AfWuWj0"
      },
      "source": [
        "The cabin column has null values in more than half the number of  rows in their respective datasets. Replacing the null values may lead to some degree of biasness   "
      ]
    },
    {
      "cell_type": "code",
      "metadata": {
        "id": "YFfMaKYDvZ0v"
      },
      "source": [
        "# dropping the column name Cabin\n",
        "df1.drop('cabin',1,inplace=True)\n",
        "df2.drop('cabin',1,inplace=True)"
      ],
      "execution_count": 40,
      "outputs": []
    },
    {
      "cell_type": "markdown",
      "metadata": {
        "id": "3sUH_B-txNUa"
      },
      "source": [
        "#### Checking for duplicated data"
      ]
    },
    {
      "cell_type": "code",
      "metadata": {
        "colab": {
          "base_uri": "https://localhost:8080/"
        },
        "id": "mzy6LKuPw7-o",
        "outputId": "66461ab7-f8f8-43a6-b6e3-749cd849b319"
      },
      "source": [
        "print('Duplicates for the training dataset : ', df1.duplicated().sum())\n",
        "print('\\nDuplicates for the test dataset : ', df2.duplicated().sum())"
      ],
      "execution_count": 41,
      "outputs": [
        {
          "output_type": "stream",
          "text": [
            "Duplicates for the training dataset :  0\n",
            "\n",
            "Duplicates for the test dataset :  0\n"
          ],
          "name": "stdout"
        }
      ]
    },
    {
      "cell_type": "markdown",
      "metadata": {
        "id": "RqAZU_8YxXZJ"
      },
      "source": [
        "#### checking for outliers\n",
        "\n",
        "\n",
        "\n",
        "checking for outliers in the continuous features"
      ]
    },
    {
      "cell_type": "code",
      "metadata": {
        "colab": {
          "base_uri": "https://localhost:8080/",
          "height": 554
        },
        "id": "HoMR1J8kxF8O",
        "outputId": "217b2c81-4544-4860-fbed-4e506c05f88b"
      },
      "source": [
        "import seaborn as sns\n",
        "import matplotlib.pyplot as plt\n",
        "\n",
        "fig, ((ax1, ax2)) = plt.subplots(2, figsize=(10, 8))\n",
        "\n",
        "fig.suptitle('Boxplots For Fare Variable In The Respective Classes')\n",
        "\n",
        "sns.boxplot(y='fare', x='pclass', data=df1, width=0.5, palette=\"viridis\",ax=ax1)\n",
        "\n",
        "sns.boxplot(y='fare', x='pclass', data=df2, width=0.5, palette=\"viridis\",ax=ax2)\n",
        "plt.show()"
      ],
      "execution_count": 42,
      "outputs": [
        {
          "output_type": "display_data",
          "data": {
            "image/png": "[encoded data removed]",
            "text/plain": [
              "<Figure size 720x576 with 2 Axes>"
            ]
          },
          "metadata": {
            "tags": [],
            "needs_background": "light"
          }
        }
      ]
    },
    {
      "cell_type": "code",
      "metadata": {
        "id": "FnuJciMR2Sc5",
        "colab": {
          "base_uri": "https://localhost:8080/",
          "height": 597
        },
        "outputId": "04536bc3-00e4-4d78-ff88-9c8fafa5acfc"
      },
      "source": [
        "plt.subplot(121)\n",
        "df1['age'].plot.box(figsize=(10,8))\n",
        "plt.tight_layout(pad=0.5)\n",
        "\n",
        "plt.subplot(122)\n",
        "df2['age'].plot.box()\n",
        "plt.tight_layout(pad=0.5)"
      ],
      "execution_count": 43,
      "outputs": [
        {
          "output_type": "display_data",
          "data": {
            "image/png": "[encoded data removed]",
            "text/plain": [
              "<Figure size 720x576 with 2 Axes>"
            ]
          },
          "metadata": {
            "tags": [],
            "needs_background": "light"
          }
        }
      ]
    },
    {
      "cell_type": "markdown",
      "metadata": {
        "id": "2xqgvFOFz-58"
      },
      "source": [
        " There are outliers for both age and fare in the train and test datasets.\n",
        "* The 'fare' feature shows there are still some outliers even after placing them in their respective classes.\n",
        "* Dropping these features would result to loss of information necessary for modelling\n"
      ]
    },
    {
      "cell_type": "markdown",
      "metadata": {
        "id": "rF2ABPsHUtbZ"
      },
      "source": [
        "#  Exploratory Analysis"
      ]
    },
    {
      "cell_type": "code",
      "metadata": {
        "colab": {
          "base_uri": "https://localhost:8080/",
          "height": 410
        },
        "id": "eDVYPIVbTtd7",
        "outputId": "7db149f1-6870-4150-cedb-0c222b9df600"
      },
      "source": [
        "import matplotlib.pyplot as plt\n",
        "%matplotlib inline\n",
        "\n",
        "\n",
        "sns.set(rc={'figure.figsize':(12,6)})\n",
        "sns.countplot(x='survived',hue='sex',data=df1,palette='viridis')\n",
        "plt.title('Chances of a passenger surviving given the gender')\n",
        "plt.show()"
      ],
      "execution_count": 44,
      "outputs": [
        {
          "output_type": "display_data",
          "data": {
            "image/png": "[encoded data removed]",
            "text/plain": [
              "<Figure size 864x432 with 1 Axes>"
            ]
          },
          "metadata": {
            "tags": []
          }
        }
      ]
    },
    {
      "cell_type": "markdown",
      "metadata": {
        "id": "ww_BytAL1jkL"
      },
      "source": [
        "insights:\n",
        "* Female passengers had a higher chance of surviving\n",
        "* The number of passengers who did not survive was way more than the number of passengers who survived."
      ]
    },
    {
      "cell_type": "code",
      "metadata": {
        "colab": {
          "base_uri": "https://localhost:8080/",
          "height": 410
        },
        "id": "VJtfu4TsBlwY",
        "outputId": "b543ed9b-644d-4c36-eb25-246894dc71a1"
      },
      "source": [
        "sns.countplot(x='survived',hue='pclass',data=df1,palette='viridis')\n",
        "plt.title('Chances of a passenger surviving given the luxury class')\n",
        "plt.show()"
      ],
      "execution_count": 45,
      "outputs": [
        {
          "output_type": "display_data",
          "data": {
            "image/png": "[encoded data removed]",
            "text/plain": [
              "<Figure size 864x432 with 1 Axes>"
            ]
          },
          "metadata": {
            "tags": []
          }
        }
      ]
    },
    {
      "cell_type": "markdown",
      "metadata": {
        "id": "7MglJ8cj2XSs"
      },
      "source": [
        "Insights:\n",
        "* passengers in the third class had the highest chance of not surviving while the second class had the lowest chance of surviving.\n",
        "* first class had the highest chance of surviving "
      ]
    },
    {
      "cell_type": "code",
      "metadata": {
        "colab": {
          "base_uri": "https://localhost:8080/",
          "height": 394
        },
        "id": "jcBkNKKuCPH3",
        "outputId": "726e73cb-0ff9-44e7-9a28-60adccb7ef71"
      },
      "source": [
        "sns.histplot(data=df1,x='age',hue='survived',bins=15,palette='viridis')\n",
        "plt.show()"
      ],
      "execution_count": 46,
      "outputs": [
        {
          "output_type": "display_data",
          "data": {
            "image/png": "[encoded data removed]",
            "text/plain": [
              "<Figure size 864x432 with 1 Axes>"
            ]
          },
          "metadata": {
            "tags": []
          }
        }
      ]
    },
    {
      "cell_type": "markdown",
      "metadata": {
        "id": "fMWrW-Zy3_wY"
      },
      "source": [
        "insights:\n",
        "* the histogram shows that passengers between the ages 18 and 30 did not surviving. of interesting to note, passengers at age 30 had the highest chances of surviving.\n",
        "* children less than 5 years had higher chance of surviving"
      ]
    },
    {
      "cell_type": "code",
      "metadata": {
        "colab": {
          "base_uri": "https://localhost:8080/",
          "height": 382
        },
        "id": "RSX5jAn3RZGs",
        "outputId": "78ece2c2-13e5-458d-f253-47271158f8f5"
      },
      "source": [
        "sns.catplot(x='embarked', data=df1, kind='count',hue='pclass',palette='viridis', row_order=['C','Q','S'])\n",
        "plt.show()"
      ],
      "execution_count": 47,
      "outputs": [
        {
          "output_type": "display_data",
          "data": {
            "image/png": "[encoded data removed]",
            "text/plain": [
              "<Figure size 406.6x360 with 1 Axes>"
            ]
          },
          "metadata": {
            "tags": []
          }
        }
      ]
    },
    {
      "cell_type": "markdown",
      "metadata": {
        "id": "Yy_2zHg65Cvt"
      },
      "source": [
        "insights:\n",
        "* S had the highest number of passengers followed by C.\n",
        "* the number of third class passengers were significantly higher at S and Q.\n",
        "* C had fewer number of passengers than S but most of the passengers had settled for first class.\n"
      ]
    },
    {
      "cell_type": "code",
      "metadata": {
        "colab": {
          "base_uri": "https://localhost:8080/",
          "height": 293
        },
        "id": "F9MAgNJYSZnB",
        "outputId": "d6ee7429-8a28-4d44-90a6-fa53c35d9650"
      },
      "source": [
        "fig = sns.FacetGrid(df1, hue=\"pclass\",aspect=4,height=4)\n",
        "fig.map(sns.kdeplot,'age',shade= True)\n",
        "oldest = df1['age'].max()\n",
        "fig.set(xlim=(0,oldest))\n",
        "fig.add_legend()\n",
        "plt.show()"
      ],
      "execution_count": 48,
      "outputs": [
        {
          "output_type": "display_data",
          "data": {
            "image/png": "[encoded data removed]",
            "text/plain": [
              "<Figure size 1198.6x288 with 1 Axes>"
            ]
          },
          "metadata": {
            "tags": []
          }
        }
      ]
    },
    {
      "cell_type": "markdown",
      "metadata": {
        "id": "y5h24gAP6jCM"
      },
      "source": [
        "insights:\n",
        "* first class passengers had relatively more older passengers than any other class.\n",
        "* passengers between the ages 15 and 34 were mostly from thirdclass.\n",
        "* children less than 10 years were mostly from third class and second class"
      ]
    },
    {
      "cell_type": "code",
      "metadata": {
        "colab": {
          "base_uri": "https://localhost:8080/",
          "height": 502
        },
        "id": "hKCFM8BfYBd-",
        "outputId": "eab5c0e0-fb6d-4dc5-b767-53468ecb3c89"
      },
      "source": [
        "#checking the distributions between in the Sibsp and parch variables with the chances of surviving\n",
        "sns.set(rc={'figure.figsize':(12,8)})\n",
        "plt.title('Countplots')\n",
        "plt.subplot(211)\n",
        "sns.countplot(x=\"sibsp\", hue='survived', data=df1,palette='mako')\n",
        "plt.subplot(212)\n",
        "sns.countplot(x=\"parch\", hue='survived', data=df1,palette='mako')\n",
        "plt.show()"
      ],
      "execution_count": 49,
      "outputs": [
        {
          "output_type": "display_data",
          "data": {
            "image/png": "[encoded data removed]",
            "text/plain": [
              "<Figure size 864x576 with 2 Axes>"
            ]
          },
          "metadata": {
            "tags": []
          }
        }
      ]
    },
    {
      "cell_type": "markdown",
      "metadata": {
        "id": "0pzN3XeSJAGI"
      },
      "source": [
        "* The above plots shows the distributions of features 'sibsp' and 'parch'.\n",
        "Both share some common attribute that most passengers belonged to 'sibsp' and 'parch' 0, and the number of passengers who did not survive predominantly in that category.\n",
        "* In 'sibsp' and 'parch'  1, the number of passengers who survived were greater than those who did not   \n"
      ]
    },
    {
      "cell_type": "code",
      "metadata": {
        "colab": {
          "base_uri": "https://localhost:8080/",
          "height": 485
        },
        "id": "iKtGo0BvXv9U",
        "outputId": "c9687a18-91b6-481d-9ca1-b9fa923c1e0f"
      },
      "source": [
        "# checking for correlations between the variables\n",
        "mask = np.zeros_like(df1.corr())\n",
        "mask[np.triu_indices_from(mask)] = True\n",
        "with sns.axes_style(\"white\"):\n",
        "    f, ax = plt.subplots(figsize=(20,8))\n",
        "    ax = sns.heatmap(df1.corr(),\n",
        "\n",
        "mask=mask,annot=True,cmap=\"mako\")"
      ],
      "execution_count": 51,
      "outputs": [
        {
          "output_type": "display_data",
          "data": {
            "image/png": "[encoded data removed]",
            "text/plain": [
              "<Figure size 1440x576 with 2 Axes>"
            ]
          },
          "metadata": {
            "tags": []
          }
        }
      ]
    },
    {
      "cell_type": "markdown",
      "metadata": {
        "id": "gY0v0Ajc8nAt"
      },
      "source": [
        "insights:\n",
        "\n",
        "* the pclass feature has moderate negative correlataion with the feature fare.while a moderate positive correlation is seen between sibsp and parch"
      ]
    },
    {
      "cell_type": "markdown",
      "metadata": {
        "id": "oUZsZSyeaHRF"
      },
      "source": [
        "#### Encoding categorical features"
      ]
    },
    {
      "cell_type": "code",
      "metadata": {
        "id": "rEu51MKop7Zh"
      },
      "source": [
        "# One-hot encode the data using pandas get_dummies\n",
        "df1 = pd.get_dummies(df1,columns=['sex'],drop_first=True)\n",
        "\n",
        "df1 = pd.get_dummies(df1,columns=['embarked'],drop_first=False)\n",
        "\n",
        "\n",
        "df2 = pd.get_dummies(df2,columns=['sex'],drop_first=True)\n",
        "\n",
        "df2 = pd.get_dummies(df2,columns=['embarked'],drop_first=False)\n",
        "\n"
      ],
      "execution_count": 52,
      "outputs": []
    },
    {
      "cell_type": "code",
      "metadata": {
        "colab": {
          "base_uri": "https://localhost:8080/",
          "height": 138
        },
        "id": "kBtSKvLGHBoR",
        "outputId": "3952d3b8-2c61-4238-c901-4572ffda55eb"
      },
      "source": [
        "# checking the train dataset\n",
        "df1.head(3)"
      ],
      "execution_count": 53,
      "outputs": [
        {
          "output_type": "execute_result",
          "data": {
            "text/html": [
              "<div>\n",
              "<style scoped>\n",
              "    .dataframe tbody tr th:only-of-type {\n",
              "        vertical-align: middle;\n",
              "    }\n",
              "\n",
              "    .dataframe tbody tr th {\n",
              "        vertical-align: top;\n",
              "    }\n",
              "\n",
              "    .dataframe thead th {\n",
              "        text-align: right;\n",
              "    }\n",
              "</style>\n",
              "<table border=\"1\" class=\"dataframe\">\n",
              "  <thead>\n",
              "    <tr style=\"text-align: right;\">\n",
              "      <th></th>\n",
              "      <th>passengerid</th>\n",
              "      <th>survived</th>\n",
              "      <th>pclass</th>\n",
              "      <th>age</th>\n",
              "      <th>sibsp</th>\n",
              "      <th>parch</th>\n",
              "      <th>fare</th>\n",
              "      <th>sex_male</th>\n",
              "      <th>embarked_C</th>\n",
              "      <th>embarked_Q</th>\n",
              "      <th>embarked_S</th>\n",
              "    </tr>\n",
              "  </thead>\n",
              "  <tbody>\n",
              "    <tr>\n",
              "      <th>0</th>\n",
              "      <td>1</td>\n",
              "      <td>0</td>\n",
              "      <td>3</td>\n",
              "      <td>22.0</td>\n",
              "      <td>1</td>\n",
              "      <td>0</td>\n",
              "      <td>7.2500</td>\n",
              "      <td>1</td>\n",
              "      <td>0</td>\n",
              "      <td>0</td>\n",
              "      <td>1</td>\n",
              "    </tr>\n",
              "    <tr>\n",
              "      <th>1</th>\n",
              "      <td>2</td>\n",
              "      <td>1</td>\n",
              "      <td>1</td>\n",
              "      <td>38.0</td>\n",
              "      <td>1</td>\n",
              "      <td>0</td>\n",
              "      <td>71.2833</td>\n",
              "      <td>0</td>\n",
              "      <td>1</td>\n",
              "      <td>0</td>\n",
              "      <td>0</td>\n",
              "    </tr>\n",
              "    <tr>\n",
              "      <th>2</th>\n",
              "      <td>3</td>\n",
              "      <td>1</td>\n",
              "      <td>3</td>\n",
              "      <td>26.0</td>\n",
              "      <td>0</td>\n",
              "      <td>0</td>\n",
              "      <td>7.9250</td>\n",
              "      <td>0</td>\n",
              "      <td>0</td>\n",
              "      <td>0</td>\n",
              "      <td>1</td>\n",
              "    </tr>\n",
              "  </tbody>\n",
              "</table>\n",
              "</div>"
            ],
            "text/plain": [
              "   passengerid  survived  pclass  ...  embarked_C  embarked_Q  embarked_S\n",
              "0            1         0       3  ...           0           0           1\n",
              "1            2         1       1  ...           1           0           0\n",
              "2            3         1       3  ...           0           0           1\n",
              "\n",
              "[3 rows x 11 columns]"
            ]
          },
          "metadata": {
            "tags": []
          },
          "execution_count": 53
        }
      ]
    },
    {
      "cell_type": "code",
      "metadata": {
        "colab": {
          "base_uri": "https://localhost:8080/",
          "height": 138
        },
        "id": "TlX4GQMiHHQj",
        "outputId": "e3f81e99-cfd2-4fe1-9511-ea94a7f39ab1"
      },
      "source": [
        "# checking the test dataset\n",
        "\n",
        "df2.head(3)"
      ],
      "execution_count": 54,
      "outputs": [
        {
          "output_type": "execute_result",
          "data": {
            "text/html": [
              "<div>\n",
              "<style scoped>\n",
              "    .dataframe tbody tr th:only-of-type {\n",
              "        vertical-align: middle;\n",
              "    }\n",
              "\n",
              "    .dataframe tbody tr th {\n",
              "        vertical-align: top;\n",
              "    }\n",
              "\n",
              "    .dataframe thead th {\n",
              "        text-align: right;\n",
              "    }\n",
              "</style>\n",
              "<table border=\"1\" class=\"dataframe\">\n",
              "  <thead>\n",
              "    <tr style=\"text-align: right;\">\n",
              "      <th></th>\n",
              "      <th>passengerid</th>\n",
              "      <th>pclass</th>\n",
              "      <th>age</th>\n",
              "      <th>sibsp</th>\n",
              "      <th>parch</th>\n",
              "      <th>fare</th>\n",
              "      <th>sex_male</th>\n",
              "      <th>embarked_C</th>\n",
              "      <th>embarked_Q</th>\n",
              "      <th>embarked_S</th>\n",
              "    </tr>\n",
              "  </thead>\n",
              "  <tbody>\n",
              "    <tr>\n",
              "      <th>0</th>\n",
              "      <td>892</td>\n",
              "      <td>3</td>\n",
              "      <td>34.5</td>\n",
              "      <td>0</td>\n",
              "      <td>0</td>\n",
              "      <td>7.8292</td>\n",
              "      <td>1</td>\n",
              "      <td>0</td>\n",
              "      <td>1</td>\n",
              "      <td>0</td>\n",
              "    </tr>\n",
              "    <tr>\n",
              "      <th>1</th>\n",
              "      <td>893</td>\n",
              "      <td>3</td>\n",
              "      <td>47.0</td>\n",
              "      <td>1</td>\n",
              "      <td>0</td>\n",
              "      <td>7.0000</td>\n",
              "      <td>0</td>\n",
              "      <td>0</td>\n",
              "      <td>0</td>\n",
              "      <td>1</td>\n",
              "    </tr>\n",
              "    <tr>\n",
              "      <th>2</th>\n",
              "      <td>894</td>\n",
              "      <td>2</td>\n",
              "      <td>62.0</td>\n",
              "      <td>0</td>\n",
              "      <td>0</td>\n",
              "      <td>9.6875</td>\n",
              "      <td>1</td>\n",
              "      <td>0</td>\n",
              "      <td>1</td>\n",
              "      <td>0</td>\n",
              "    </tr>\n",
              "  </tbody>\n",
              "</table>\n",
              "</div>"
            ],
            "text/plain": [
              "   passengerid  pclass   age  ...  embarked_C  embarked_Q  embarked_S\n",
              "0          892       3  34.5  ...           0           1           0\n",
              "1          893       3  47.0  ...           0           0           1\n",
              "2          894       2  62.0  ...           0           1           0\n",
              "\n",
              "[3 rows x 10 columns]"
            ]
          },
          "metadata": {
            "tags": []
          },
          "execution_count": 54
        }
      ]
    },
    {
      "cell_type": "markdown",
      "metadata": {
        "id": "vTbdjSrhVIiT"
      },
      "source": [
        "#  Implementing the Solution"
      ]
    },
    {
      "cell_type": "markdown",
      "metadata": {
        "id": "hTVLH_e9dh3s"
      },
      "source": [
        "feature selection\n",
        "------------\n",
        "\n",
        "* In order to reduce the amount of data to feed to our model we are to use a reduction technique\n",
        "\n",
        "\n",
        "Adopting the random forest for feature selection\n",
        "\n",
        "* This will attempt to find features that  will be more useful in predicting the 'survived' label\n"
      ]
    },
    {
      "cell_type": "code",
      "metadata": {
        "id": "O4ZBmUMogj7L"
      },
      "source": [
        "feat = df1.drop(['survived','passengerid'], 1)\n",
        "survived_label = df1['survived']\n",
        "\n",
        "# Import the model\n",
        "from sklearn.ensemble import RandomForestClassifier\n",
        "\n",
        "tree = RandomForestClassifier(n_estimators = 100)\n",
        "tree = forest.fit(feat, survived_label)\n"
      ],
      "execution_count": 74,
      "outputs": []
    },
    {
      "cell_type": "code",
      "metadata": {
        "colab": {
          "base_uri": "https://localhost:8080/"
        },
        "id": "GatEFk1dgi9o",
        "outputId": "f3b983e7-5277-43f0-a78e-597a59f3d6ac"
      },
      "source": [
        "# Get numerical feature importances\n",
        "importances = list(tree.feature_importances_)\n",
        "\n",
        "\n",
        "test_features=feat.columns.to_list()\n",
        "\n",
        "# We now use some Python magic to connect each feature with its importance\n",
        "# List of tuples with variable and importance\n",
        "feature_importances = [(feature, round(importance, 2)) for feature, importance in zip(test_features, importances)]\n",
        "\n",
        "print(feature_importances) #this already has all the information we need, but it can be tricky to see when there are too many features.\n",
        "print()\n",
        "\n",
        "# Nice to have: We can sort the values in descending order, since we care about the most important features first.\n",
        "feature_importances = sorted(feature_importances, key = lambda x: x[1], reverse = True)\n",
        "\n",
        "# Print out the feature and importances \n",
        "[print('Variable: {:20} Importance: {}'.format(*pair)) for pair in feature_importances];\n"
      ],
      "execution_count": 75,
      "outputs": [
        {
          "output_type": "stream",
          "text": [
            "[('pclass', 0.09), ('age', 0.26), ('sibsp', 0.05), ('parch', 0.04), ('fare', 0.26), ('sex_male', 0.27), ('embarked_C', 0.01), ('embarked_Q', 0.01), ('embarked_S', 0.02)]\n",
            "\n",
            "Variable: sex_male             Importance: 0.27\n",
            "Variable: age                  Importance: 0.26\n",
            "Variable: fare                 Importance: 0.26\n",
            "Variable: pclass               Importance: 0.09\n",
            "Variable: sibsp                Importance: 0.05\n",
            "Variable: parch                Importance: 0.04\n",
            "Variable: embarked_S           Importance: 0.02\n",
            "Variable: embarked_C           Importance: 0.01\n",
            "Variable: embarked_Q           Importance: 0.01\n"
          ],
          "name": "stdout"
        }
      ]
    },
    {
      "cell_type": "markdown",
      "metadata": {
        "id": "TbdHSJvkqjux"
      },
      "source": [
        "as shown above , the gender feature ie sex_male , age and fare show more importance in "
      ]
    },
    {
      "cell_type": "code",
      "metadata": {
        "id": "tdQK0A7rRIbI"
      },
      "source": [
        "# splitting further the train dataset \n",
        "# \n",
        "X = df1[['sex_male','age','fare']].values\n",
        "y = survived_label.values"
      ],
      "execution_count": 109,
      "outputs": []
    },
    {
      "cell_type": "code",
      "metadata": {
        "id": "b_gcqGyTaIr1"
      },
      "source": [
        "#  Rescaling our data\n",
        "from sklearn.preprocessing import normalize\n",
        "X = normalize(X, norm='l2')"
      ],
      "execution_count": 110,
      "outputs": []
    },
    {
      "cell_type": "code",
      "metadata": {
        "id": "Px4IQ16UyWcU"
      },
      "source": [
        "# splitting to train and test sets with an 80% training dataset\n",
        "\n",
        "from sklearn.model_selection import train_test_split\n",
        "X_train, X_test, y_train, y_test = train_test_split(X, y, test_size=0.20)"
      ],
      "execution_count": 111,
      "outputs": []
    },
    {
      "cell_type": "markdown",
      "metadata": {
        "id": "1H9XccqsXiWl"
      },
      "source": [
        "Determining the best parameters for the model through hyperparameter tuning"
      ]
    },
    {
      "cell_type": "code",
      "metadata": {
        "colab": {
          "base_uri": "https://localhost:8080/"
        },
        "id": "UpfG8JBBT_HE",
        "outputId": "6694dde4-0a44-4c63-ce2c-5c1ae680fc12"
      },
      "source": [
        "# Applying Grid Search to find the best model and the best parameters\n",
        "from sklearn.model_selection import GridSearchCV\n",
        "from sklearn.neighbors import KNeighborsClassifier\n",
        "\n",
        "classifier = KNeighborsClassifier()\n",
        "\n",
        "parameters = [{'n_neighbors': np.arange(3,13,2), 'weights': ['uniform'], 'algorithm' : ['ball_tree', 'kd_tree', 'brute'], 'metric':['minkowski', 'euclidean', 'manhattan', 'chebyshev']},\n",
        "              {'n_neighbors': np.arange(3,13,2), 'weights': ['distance'], 'algorithm' : ['ball_tree', 'kd_tree', 'brute'], 'metric':['minkowski', 'euclidean', 'manhattan', 'chebyshev']}]\n",
        "\n",
        "# finding the accuracy on the 10 test folds\n",
        "grid_search = GridSearchCV(estimator=classifier, param_grid=parameters,cv = 10, n_jobs = -1)\n",
        "\n",
        "grid_search.fit(X_train, y_train)\n",
        "print('These are the best parameters for the model using a 10fold cross validation :\\n', grid_search.best_estimator_)"
      ],
      "execution_count": 112,
      "outputs": [
        {
          "output_type": "stream",
          "text": [
            "These are the best parameters for the model using a 10fold cross validation :\n",
            " KNeighborsClassifier(algorithm='ball_tree', leaf_size=30, metric='chebyshev',\n",
            "                     metric_params=None, n_jobs=None, n_neighbors=5, p=2,\n",
            "                     weights='distance')\n"
          ],
          "name": "stdout"
        }
      ]
    },
    {
      "cell_type": "markdown",
      "metadata": {
        "id": "_4ZhBeDHEgFj"
      },
      "source": [
        "Adopting the best parameters to our KNN model\n",
        "----------"
      ]
    },
    {
      "cell_type": "code",
      "metadata": {
        "colab": {
          "base_uri": "https://localhost:8080/"
        },
        "id": "Z0kHy1Reyf4K",
        "outputId": "9352f70b-383e-43b7-9d65-cb044e2f6d35"
      },
      "source": [
        "# Training and Predictions\n",
        "# ---\n",
        "from sklearn.neighbors import KNeighborsClassifier\n",
        "classifier = KNeighborsClassifier(algorithm='ball_tree',metric='manhattan',n_neighbors=5,weights='uniform')\n",
        "classifier.fit(X_train, y_train)"
      ],
      "execution_count": 113,
      "outputs": [
        {
          "output_type": "execute_result",
          "data": {
            "text/plain": [
              "KNeighborsClassifier(algorithm='ball_tree', leaf_size=30, metric='manhattan',\n",
              "                     metric_params=None, n_jobs=None, n_neighbors=5, p=2,\n",
              "                     weights='uniform')"
            ]
          },
          "metadata": {
            "tags": []
          },
          "execution_count": 113
        }
      ]
    },
    {
      "cell_type": "code",
      "metadata": {
        "id": "oe0STi7nytSi"
      },
      "source": [
        "#  making predictions on our test data\n",
        "# ---\n",
        "# \n",
        "y_pred = classifier.predict(X_test)"
      ],
      "execution_count": 114,
      "outputs": []
    },
    {
      "cell_type": "code",
      "metadata": {
        "colab": {
          "base_uri": "https://localhost:8080/"
        },
        "id": "CsSAjiHGyzpt",
        "outputId": "f196e735-b35c-4b2b-866e-d2458a0f49c3"
      },
      "source": [
        "# Evaluating the Algorithm\n",
        "# ---\n",
        "from sklearn.metrics import classification_report, confusion_matrix\n",
        "print(confusion_matrix(y_test, y_pred))\n",
        "print(classification_report(y_test, y_pred))"
      ],
      "execution_count": 115,
      "outputs": [
        {
          "output_type": "stream",
          "text": [
            "[[82 21]\n",
            " [26 50]]\n",
            "              precision    recall  f1-score   support\n",
            "\n",
            "           0       0.76      0.80      0.78       103\n",
            "           1       0.70      0.66      0.68        76\n",
            "\n",
            "    accuracy                           0.74       179\n",
            "   macro avg       0.73      0.73      0.73       179\n",
            "weighted avg       0.74      0.74      0.74       179\n",
            "\n"
          ],
          "name": "stdout"
        }
      ]
    },
    {
      "cell_type": "markdown",
      "metadata": {
        "id": "HUqo3mLRtzs3"
      },
      "source": [
        "* The model gave an acuracy score of 0.78. This shall serve as our basemodel"
      ]
    },
    {
      "cell_type": "markdown",
      "metadata": {
        "id": "fNG0_2f_6GDA"
      },
      "source": [
        "consolidating the test dataset from the datasource\n",
        "--------"
      ]
    },
    {
      "cell_type": "code",
      "metadata": {
        "id": "5RBWr09c6kJJ"
      },
      "source": [
        "X = df2[['sex_male','age','fare']].values\n",
        "\n",
        "#  Rescaling our data\n",
        "from sklearn.preprocessing import normalize\n",
        "X = normalize(X, norm='l2')\n"
      ],
      "execution_count": 116,
      "outputs": []
    },
    {
      "cell_type": "code",
      "metadata": {
        "colab": {
          "base_uri": "https://localhost:8080/"
        },
        "id": "eCPjjjp38PfN",
        "outputId": "5e8ce7f3-9a60-40a8-8655-8fb9ca8d4799"
      },
      "source": [
        "df2.shape[0]"
      ],
      "execution_count": 119,
      "outputs": [
        {
          "output_type": "execute_result",
          "data": {
            "text/plain": [
              "418"
            ]
          },
          "metadata": {
            "tags": []
          },
          "execution_count": 119
        }
      ]
    },
    {
      "cell_type": "code",
      "metadata": {
        "id": "4Ttt8tKE8ayb"
      },
      "source": [
        "ytest = y[:418]"
      ],
      "execution_count": 135,
      "outputs": []
    },
    {
      "cell_type": "code",
      "metadata": {
        "colab": {
          "base_uri": "https://localhost:8080/"
        },
        "id": "UlFxSUCv7DHz",
        "outputId": "c55ec025-ed52-4f7e-9873-17cf94149b21"
      },
      "source": [
        "#  making predictions on our test data\n",
        "# ---\n",
        "# \n",
        "y_pred = classifier.predict(X)\n",
        "\n",
        "# Evaluating the Algorithm\n",
        "# ---\n",
        "from sklearn.metrics import classification_report, confusion_matrix\n",
        "print(confusion_matrix(ytest, y_pred))\n",
        "print(classification_report(ytest, y_pred))"
      ],
      "execution_count": 138,
      "outputs": [
        {
          "output_type": "stream",
          "text": [
            "[[152 103]\n",
            " [107  56]]\n",
            "              precision    recall  f1-score   support\n",
            "\n",
            "           0       0.59      0.60      0.59       255\n",
            "           1       0.35      0.34      0.35       163\n",
            "\n",
            "    accuracy                           0.50       418\n",
            "   macro avg       0.47      0.47      0.47       418\n",
            "weighted avg       0.50      0.50      0.50       418\n",
            "\n"
          ],
          "name": "stdout"
        }
      ]
    },
    {
      "cell_type": "markdown",
      "metadata": {
        "id": "cuyJgOSzTuiX"
      },
      "source": [
        "Attempting to improve the accuracy score\n",
        "-----------\n",
        "* Using the dimensionality reduction technique ie LDA to select features.\n",
        "* Note that some of the methods used to improve the model have already been applied through hyperparameter tuning \n"
      ]
    },
    {
      "cell_type": "code",
      "metadata": {
        "colab": {
          "base_uri": "https://localhost:8080/",
          "height": 318
        },
        "id": "WzfioINpnxUd",
        "outputId": "d29449df-8541-453a-f1f7-5fadb0db2d09"
      },
      "source": [
        "# data reduction\n",
        "\n",
        "# Separating our target label from the other features\n",
        "feat = df1.drop(['survived','passengerid'], 1)\n",
        "survived_label = df1['survived']\n",
        "# Subject our features to LDA model\n",
        "from sklearn.discriminant_analysis import LinearDiscriminantAnalysis as LDA\n",
        "# Create an instance of LDA\n",
        "lda = LDA()\n",
        "lda = lda.fit(feat, survived_label)\n",
        "lda_feat = lda.transform(feat)\n",
        "#lda coefficients\n",
        "lda.coef_\n",
        "# Since the coefficients are in an array, we need to create a dataframe so that we can extract the name of the columns\n",
        "f_imp = pd.DataFrame(index=feat.columns.values, data=lda.coef_[0].T)\n",
        "f_imp.sort_values(0, ascending=False)"
      ],
      "execution_count": 90,
      "outputs": [
        {
          "output_type": "execute_result",
          "data": {
            "text/html": [
              "<div>\n",
              "<style scoped>\n",
              "    .dataframe tbody tr th:only-of-type {\n",
              "        vertical-align: middle;\n",
              "    }\n",
              "\n",
              "    .dataframe tbody tr th {\n",
              "        vertical-align: top;\n",
              "    }\n",
              "\n",
              "    .dataframe thead th {\n",
              "        text-align: right;\n",
              "    }\n",
              "</style>\n",
              "<table border=\"1\" class=\"dataframe\">\n",
              "  <thead>\n",
              "    <tr style=\"text-align: right;\">\n",
              "      <th></th>\n",
              "      <th>0</th>\n",
              "    </tr>\n",
              "  </thead>\n",
              "  <tbody>\n",
              "    <tr>\n",
              "      <th>embarked_C</th>\n",
              "      <td>0.209249</td>\n",
              "    </tr>\n",
              "    <tr>\n",
              "      <th>embarked_Q</th>\n",
              "      <td>0.202486</td>\n",
              "    </tr>\n",
              "    <tr>\n",
              "      <th>fare</th>\n",
              "      <td>0.002042</td>\n",
              "    </tr>\n",
              "    <tr>\n",
              "      <th>age</th>\n",
              "      <td>-0.041064</td>\n",
              "    </tr>\n",
              "    <tr>\n",
              "      <th>parch</th>\n",
              "      <td>-0.113364</td>\n",
              "    </tr>\n",
              "    <tr>\n",
              "      <th>embarked_S</th>\n",
              "      <td>-0.241644</td>\n",
              "    </tr>\n",
              "    <tr>\n",
              "      <th>sibsp</th>\n",
              "      <td>-0.289563</td>\n",
              "    </tr>\n",
              "    <tr>\n",
              "      <th>pclass</th>\n",
              "      <td>-1.206827</td>\n",
              "    </tr>\n",
              "    <tr>\n",
              "      <th>sex_male</th>\n",
              "      <td>-3.539895</td>\n",
              "    </tr>\n",
              "  </tbody>\n",
              "</table>\n",
              "</div>"
            ],
            "text/plain": [
              "                   0\n",
              "embarked_C  0.209249\n",
              "embarked_Q  0.202486\n",
              "fare        0.002042\n",
              "age        -0.041064\n",
              "parch      -0.113364\n",
              "embarked_S -0.241644\n",
              "sibsp      -0.289563\n",
              "pclass     -1.206827\n",
              "sex_male   -3.539895"
            ]
          },
          "metadata": {
            "tags": []
          },
          "execution_count": 90
        }
      ]
    },
    {
      "cell_type": "code",
      "metadata": {
        "id": "JiWBfzIcpFMP"
      },
      "source": [
        "# using the top most features \n",
        "# splitting further the train dataset \n",
        "# \n",
        "X = df1[['embarked_C','embarked_Q','fare']].values\n",
        "y = survived_label.values"
      ],
      "execution_count": 95,
      "outputs": []
    },
    {
      "cell_type": "code",
      "metadata": {
        "id": "vFidJugPps1O"
      },
      "source": [
        "#  Rescaling our data\n",
        "from sklearn.preprocessing import normalize\n",
        "X = normalize(X, norm='l2')"
      ],
      "execution_count": 96,
      "outputs": []
    },
    {
      "cell_type": "code",
      "metadata": {
        "id": "Rwc4f0a-pFEV"
      },
      "source": [
        "X_train, X_test, y_train, y_test = train_test_split(X, y, test_size=0.20)"
      ],
      "execution_count": 97,
      "outputs": []
    },
    {
      "cell_type": "code",
      "metadata": {
        "colab": {
          "base_uri": "https://localhost:8080/"
        },
        "id": "Ej2vwQAfpuLZ",
        "outputId": "3eceecfa-9b08-40f2-9b72-f2cfaeb11b61"
      },
      "source": [
        "# Training and Predictions\n",
        "# ---\n",
        "from sklearn.neighbors import KNeighborsClassifier\n",
        "classifier = KNeighborsClassifier(algorithm='ball_tree',metric='manhattan',n_neighbors=5,weights='uniform')\n",
        "classifier.fit(X_train, y_train)\n",
        "\n",
        "#  making predictions on our test data\n",
        "# ---\n",
        "# \n",
        "y_pred = classifier.predict(X_test)\n",
        "\n",
        "# Evaluating the Algorithm\n",
        "# ---\n",
        "from sklearn.metrics import classification_report, confusion_matrix\n",
        "print(confusion_matrix(y_test, y_pred))\n",
        "print(classification_report(y_test, y_pred))"
      ],
      "execution_count": 98,
      "outputs": [
        {
          "output_type": "stream",
          "text": [
            "[[108   7]\n",
            " [ 44  20]]\n",
            "              precision    recall  f1-score   support\n",
            "\n",
            "           0       0.71      0.94      0.81       115\n",
            "           1       0.74      0.31      0.44        64\n",
            "\n",
            "    accuracy                           0.72       179\n",
            "   macro avg       0.73      0.63      0.62       179\n",
            "weighted avg       0.72      0.72      0.68       179\n",
            "\n"
          ],
          "name": "stdout"
        }
      ]
    },
    {
      "cell_type": "markdown",
      "metadata": {
        "id": "Rgo6g84YrmI7"
      },
      "source": [
        "* using the top three coefficients from the LDA gave a lower accuracy score (0.72) as compared to using the top three features from our base model"
      ]
    },
    {
      "cell_type": "markdown",
      "metadata": {
        "id": "ml8x23Gl_1AI"
      },
      "source": [
        "consolidating the test dataset from the datasource\n",
        "--------"
      ]
    },
    {
      "cell_type": "code",
      "metadata": {
        "id": "Z4iUQc93_96v"
      },
      "source": [
        "X = df2[['embarked_C','embarked_Q','fare']].values\n",
        "\n",
        "#  Rescaling our data\n",
        "from sklearn.preprocessing import normalize\n",
        "X = normalize(X, norm='l2')\n"
      ],
      "execution_count": 139,
      "outputs": []
    },
    {
      "cell_type": "code",
      "metadata": {
        "colab": {
          "base_uri": "https://localhost:8080/"
        },
        "id": "o8cPtAjvAL6q",
        "outputId": "e6cc7fec-3a28-4f19-de40-8b3d8e6aec5e"
      },
      "source": [
        "#  making predictions on our test data\n",
        "# ---\n",
        "# \n",
        "y_pred = classifier.predict(X)\n",
        "\n",
        "# Evaluating the Algorithm\n",
        "# ---\n",
        "from sklearn.metrics import classification_report, confusion_matrix\n",
        "print(confusion_matrix(ytest, y_pred))\n",
        "print(classification_report(ytest, y_pred))"
      ],
      "execution_count": 140,
      "outputs": [
        {
          "output_type": "stream",
          "text": [
            "[[  2 253]\n",
            " [  0 163]]\n",
            "              precision    recall  f1-score   support\n",
            "\n",
            "           0       1.00      0.01      0.02       255\n",
            "           1       0.39      1.00      0.56       163\n",
            "\n",
            "    accuracy                           0.39       418\n",
            "   macro avg       0.70      0.50      0.29       418\n",
            "weighted avg       0.76      0.39      0.23       418\n",
            "\n"
          ],
          "name": "stdout"
        }
      ]
    },
    {
      "cell_type": "markdown",
      "metadata": {
        "id": "HVnb5KGiwECu"
      },
      "source": [
        "# Challenging the solution"
      ]
    },
    {
      "cell_type": "markdown",
      "metadata": {
        "id": "QxlXlbWhwEsC"
      },
      "source": [
        "To check if the accuracy score can be improved further,\n",
        "* should implement more feature engineering such as creation of new features\n",
        "* exploring other classification models\n",
        "* using all the features"
      ]
    },
    {
      "cell_type": "markdown",
      "metadata": {
        "id": "eQ5bqeh6VdgA"
      },
      "source": [
        "# Conclusions"
      ]
    },
    {
      "cell_type": "markdown",
      "metadata": {
        "id": "oHPM22Wz4gXp"
      },
      "source": [
        "* The KNN 'base model' had an average accuracy score (0.5) under feature  selection from the random forest but performed better than the model from LDA feature selection which had an accuracy of 0.39.\n",
        "* Some methods that would assist in increasing the accuracy are listed under challenging the solution section"
      ]
    },
    {
      "cell_type": "code",
      "metadata": {
        "id": "YLQevY-vCTJL"
      },
      "source": [
        ""
      ],
      "execution_count": null,
      "outputs": []
    }
  ]
}